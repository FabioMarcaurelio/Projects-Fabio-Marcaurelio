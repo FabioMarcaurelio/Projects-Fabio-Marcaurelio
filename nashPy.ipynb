{
 "cells": [
  {
   "cell_type": "code",
   "execution_count": null,
   "id": "d2e12f12-1832-4cef-96d6-a9f2efb1cdc0",
   "metadata": {},
   "outputs": [],
   "source": [
    "# NASH #"
   ]
  },
  {
   "cell_type": "code",
   "execution_count": null,
   "id": "2831c4c2-6edf-42c3-a3ba-120a3f393858",
   "metadata": {},
   "outputs": [],
   "source": [
    "### 1- representing games ###"
   ]
  },
  {
   "cell_type": "code",
   "execution_count": null,
   "id": "d6f89742-4ba6-42c8-a224-91ec219c8eec",
   "metadata": {},
   "outputs": [],
   "source": [
    "# instal nashpy"
   ]
  },
  {
   "cell_type": "code",
   "execution_count": 51,
   "id": "f6fdda16-13c5-46a5-969e-a8afb267deed",
   "metadata": {},
   "outputs": [
    {
     "name": "stdout",
     "output_type": "stream",
     "text": [
      "Note: you may need to restart the kernel to use updated packages.\n"
     ]
    },
    {
     "name": "stderr",
     "output_type": "stream",
     "text": [
      "ERROR: Invalid requirement: '#instal'\n"
     ]
    }
   ],
   "source": [
    "pip install nashpy #instal library"
   ]
  },
  {
   "cell_type": "code",
   "execution_count": 10,
   "id": "1833bfa2-449f-4dd2-b500-dbf64faaf31f",
   "metadata": {},
   "outputs": [],
   "source": [
    "import nashpy as nash #import library"
   ]
  },
  {
   "cell_type": "code",
   "execution_count": 12,
   "id": "a1fa87ce-cc17-4415-a292-0b30d2eab298",
   "metadata": {},
   "outputs": [
    {
     "data": {
      "text/plain": [
       "'0.0.41'"
      ]
     },
     "execution_count": 12,
     "metadata": {},
     "output_type": "execute_result"
    }
   ],
   "source": [
    "nash.__version__ #version"
   ]
  },
  {
   "cell_type": "code",
   "execution_count": 20,
   "id": "29b2d66d-d936-4cbc-b96e-525ad114a2d4",
   "metadata": {},
   "outputs": [
    {
     "name": "stdout",
     "output_type": "stream",
     "text": [
      "[[3, 1], [0, 2]]\n",
      "[[2, 1], [0, 3]]\n"
     ]
    }
   ],
   "source": [
    "A= [[3,1],[0,2]]\n",
    "print(A)\n",
    "B= [[2,1],[0,3]]\n",
    "print(B)"
   ]
  },
  {
   "cell_type": "code",
   "execution_count": 23,
   "id": "f15ec825-4722-4d3b-9826-66d31f2b5567",
   "metadata": {},
   "outputs": [],
   "source": [
    "game1=nash.Game(A,B) #now game1 is an object"
   ]
  },
  {
   "cell_type": "code",
   "execution_count": 24,
   "id": "426fcda0-dc3a-471c-9705-1a8314a19e89",
   "metadata": {},
   "outputs": [
    {
     "data": {
      "text/plain": [
       "Bi matrix game with payoff matrices:\n",
       "\n",
       "Row player:\n",
       "[[3 1]\n",
       " [0 2]]\n",
       "\n",
       "Column player:\n",
       "[[2 1]\n",
       " [0 3]]"
      ]
     },
     "execution_count": 24,
     "metadata": {},
     "output_type": "execute_result"
    }
   ],
   "source": [
    "game1"
   ]
  },
  {
   "cell_type": "code",
   "execution_count": 25,
   "id": "b626df03-989d-4481-bcb4-f1bf8d269ee8",
   "metadata": {},
   "outputs": [
    {
     "name": "stdout",
     "output_type": "stream",
     "text": [
      "[[1, -1], [-1, 1]]\n",
      "[[-1, 1], [1, -1]]\n"
     ]
    }
   ],
   "source": [
    "A= [[1,-1],[-1,1]]\n",
    "print(A)\n",
    "B= [[-1,1],[1,-1]]\n",
    "print(B)"
   ]
  },
  {
   "cell_type": "code",
   "execution_count": 28,
   "id": "9c7e80a5-150a-4535-8c0a-4fcdcc3b9bcd",
   "metadata": {},
   "outputs": [],
   "source": [
    "matching_pennies=nash.Game(A,B) #now matching pennies is an object, in this game if i win you lose"
   ]
  },
  {
   "cell_type": "code",
   "execution_count": 27,
   "id": "1e2dabc7-80f4-4df2-8181-3142ef26dbb7",
   "metadata": {},
   "outputs": [
    {
     "data": {
      "text/plain": [
       "Zero sum game with payoff matrices:\n",
       "\n",
       "Row player:\n",
       "[[ 1 -1]\n",
       " [-1  1]]\n",
       "\n",
       "Column player:\n",
       "[[-1  1]\n",
       " [ 1 -1]]"
      ]
     },
     "execution_count": 27,
     "metadata": {},
     "output_type": "execute_result"
    }
   ],
   "source": [
    "matching_pennies"
   ]
  },
  {
   "cell_type": "code",
   "execution_count": null,
   "id": "2cf8a1e2-4352-4d9c-94df-1177ed311fc0",
   "metadata": {},
   "outputs": [],
   "source": [
    "### 2- utilities ###"
   ]
  },
  {
   "cell_type": "code",
   "execution_count": 31,
   "id": "d6a62b53-ba0b-4ce2-b104-38005ddfbf60",
   "metadata": {},
   "outputs": [],
   "source": [
    "import numpy as np"
   ]
  },
  {
   "cell_type": "code",
   "execution_count": 34,
   "id": "c371df25-9d98-4003-933b-493909620d3b",
   "metadata": {},
   "outputs": [
    {
     "name": "stdout",
     "output_type": "stream",
     "text": [
      "[[1, -1], [-1, 1]]\n"
     ]
    }
   ],
   "source": [
    "A= [[1,-1],[-1,1]]\n",
    "print(A)"
   ]
  },
  {
   "cell_type": "code",
   "execution_count": 37,
   "id": "209fdafc-ec97-4f06-83ce-c18574f1a74c",
   "metadata": {},
   "outputs": [
    {
     "data": {
      "text/plain": [
       "Zero sum game with payoff matrices:\n",
       "\n",
       "Row player:\n",
       "[[ 1 -1]\n",
       " [-1  1]]\n",
       "\n",
       "Column player:\n",
       "[[-1  1]\n",
       " [ 1 -1]]"
      ]
     },
     "execution_count": 37,
     "metadata": {},
     "output_type": "execute_result"
    }
   ],
   "source": [
    "matching_pennies1=nash.Game(A) #now matching pennies is an object, in this game if i win you lose\n",
    "matching_pennies1 #works even if i don't specified the column player"
   ]
  },
  {
   "cell_type": "code",
   "execution_count": null,
   "id": "420f44a7-84fb-4656-930e-1f44a9a71be6",
   "metadata": {},
   "outputs": [],
   "source": [
    "# distribution"
   ]
  },
  {
   "cell_type": "code",
   "execution_count": 49,
   "id": "78c4c119-dd98-48e7-b8a4-93a37a221f28",
   "metadata": {},
   "outputs": [
    {
     "name": "stdout",
     "output_type": "stream",
     "text": [
      "[0.8 0.2]\n",
      "[0.6 0.4]\n"
     ]
    }
   ],
   "source": [
    "sigma_row=np.array([.8, .2])\n",
    "print(sigma_row)\n",
    "\n",
    "sigma_col=np.array([0.6, 0.4])\n",
    "print(sigma_col)"
   ]
  },
  {
   "cell_type": "code",
   "execution_count": 50,
   "id": "812ed8d4-1f82-41a2-bf7b-261c9dc148d3",
   "metadata": {},
   "outputs": [
    {
     "data": {
      "text/plain": [
       "array([ 0.12, -0.12])"
      ]
     },
     "execution_count": 50,
     "metadata": {},
     "output_type": "execute_result"
    }
   ],
   "source": [
    "matching_pennies1[sigma_row,sigma_col]"
   ]
  },
  {
   "cell_type": "code",
   "execution_count": null,
   "id": "ff15f4c5-eccb-43b3-afb8-8189ca265d45",
   "metadata": {},
   "outputs": [],
   "source": [
    "### 3- Nash Equilibrium ###"
   ]
  },
  {
   "cell_type": "code",
   "execution_count": 90,
   "id": "3836ff3e-55ca-4360-b987-593526bd964b",
   "metadata": {},
   "outputs": [
    {
     "name": "stdout",
     "output_type": "stream",
     "text": [
      "[[ 1  1 -1]\n",
      " [ 2 -1  0]]\n",
      "[[ 0.5 -1.  -0.5]\n",
      " [-1.   3.   2. ]]\n"
     ]
    }
   ],
   "source": [
    "A=np.array([[1,1,-1],[2,-1,0]])\n",
    "print(A)\n",
    "\n",
    "B=np.array([[1/2,-1,-1/2],[-1,3,2]])\n",
    "print(B)"
   ]
  },
  {
   "cell_type": "code",
   "execution_count": 91,
   "id": "faf0dbad-1e22-4f5a-9069-dd864554badf",
   "metadata": {},
   "outputs": [
    {
     "data": {
      "text/plain": [
       "Bi matrix game with payoff matrices:\n",
       "\n",
       "Row player:\n",
       "[[ 1  1 -1]\n",
       " [ 2 -1  0]]\n",
       "\n",
       "Column player:\n",
       "[[ 0.5 -1.  -0.5]\n",
       " [-1.   3.   2. ]]"
      ]
     },
     "execution_count": 91,
     "metadata": {},
     "output_type": "execute_result"
    }
   ],
   "source": [
    "game=nash.Game(A,B) #define the game\n",
    "game"
   ]
  },
  {
   "cell_type": "code",
   "execution_count": 92,
   "id": "4fa941c8-44f3-4dc6-89f6-c05d0b17f6a4",
   "metadata": {},
   "outputs": [
    {
     "data": {
      "text/plain": [
       "<generator object support_enumeration at 0x000001FAF818D6D0>"
      ]
     },
     "execution_count": 92,
     "metadata": {},
     "output_type": "execute_result"
    }
   ],
   "source": [
    "NE=game.support_enumeration()\n",
    "NE"
   ]
  },
  {
   "cell_type": "code",
   "execution_count": 93,
   "id": "9f760f33-9ce2-4f55-8838-3b55b3277911",
   "metadata": {},
   "outputs": [
    {
     "data": {
      "text/plain": [
       "generator"
      ]
     },
     "execution_count": 93,
     "metadata": {},
     "output_type": "execute_result"
    }
   ],
   "source": [
    "type(NE)"
   ]
  },
  {
   "cell_type": "code",
   "execution_count": 94,
   "id": "70c7a657-c73c-493c-b182-19949e0209a9",
   "metadata": {},
   "outputs": [
    {
     "name": "stdout",
     "output_type": "stream",
     "text": [
      "(array([0.66666667, 0.33333333]), array([-0.        ,  0.33333333,  0.66666667]))\n"
     ]
    }
   ],
   "source": [
    "for eq in NE:\n",
    "    print(eq)"
   ]
  },
  {
   "cell_type": "code",
   "execution_count": 97,
   "id": "afe8e326-bce0-4fd9-b5d0-e189e816da5d",
   "metadata": {},
   "outputs": [],
   "source": [
    "NE=game.vertex_enumeration()"
   ]
  },
  {
   "cell_type": "code",
   "execution_count": 98,
   "id": "10cde3a6-a2e7-4245-a403-051f61b04227",
   "metadata": {},
   "outputs": [
    {
     "data": {
      "text/plain": [
       "[(array([0.66666667, 0.33333333]),\n",
       "  array([1.85037171e-17, 3.33333333e-01, 6.66666667e-01]))]"
      ]
     },
     "execution_count": 98,
     "metadata": {},
     "output_type": "execute_result"
    }
   ],
   "source": [
    "list(NE)"
   ]
  },
  {
   "cell_type": "code",
   "execution_count": null,
   "id": "7b21aa1a-05b8-4cdc-8492-2cf2ce10e063",
   "metadata": {},
   "outputs": [],
   "source": [
    "### 4- Lemke Howson algorithm ###"
   ]
  },
  {
   "cell_type": "code",
   "execution_count": 100,
   "id": "98ce03b8-2833-4b6a-835e-8f2cf5db15e1",
   "metadata": {},
   "outputs": [
    {
     "name": "stdout",
     "output_type": "stream",
     "text": [
      "[[3 1]\n",
      " [0 2]]\n",
      "[[2 1]\n",
      " [0 3]]\n"
     ]
    }
   ],
   "source": [
    "A=np.array([[3, 1],[0, 2]])\n",
    "print(A)\n",
    "\n",
    "B=np.array([[2, 1],[0, 3]])\n",
    "print(B)"
   ]
  },
  {
   "cell_type": "code",
   "execution_count": 103,
   "id": "dbc4cc09-4919-4ffb-be93-cd1655db1f74",
   "metadata": {},
   "outputs": [
    {
     "data": {
      "text/plain": [
       "Bi matrix game with payoff matrices:\n",
       "\n",
       "Row player:\n",
       "[[3 1]\n",
       " [0 2]]\n",
       "\n",
       "Column player:\n",
       "[[2 1]\n",
       " [0 3]]"
      ]
     },
     "execution_count": 103,
     "metadata": {},
     "output_type": "execute_result"
    }
   ],
   "source": [
    "game=nash.Game(A,B)\n",
    "game"
   ]
  },
  {
   "cell_type": "code",
   "execution_count": 105,
   "id": "fad3c20f-b2a0-410a-a1f8-4ca0d2c4f517",
   "metadata": {},
   "outputs": [
    {
     "data": {
      "text/plain": [
       "(array([1., 0.]), array([1., 0.]))"
      ]
     },
     "execution_count": 105,
     "metadata": {},
     "output_type": "execute_result"
    }
   ],
   "source": [
    "game.lemke_howson(initial_dropped_label=0)"
   ]
  },
  {
   "cell_type": "code",
   "execution_count": 106,
   "id": "8d68c615-e5d1-4cb5-801d-66b035446e47",
   "metadata": {},
   "outputs": [
    {
     "name": "stdout",
     "output_type": "stream",
     "text": [
      "(array([1., 0.]), array([1., 0.]))\n",
      "(array([1., 0.]), array([1., 0.]))\n",
      "(array([1., 0.]), array([1., 0.]))\n",
      "(array([1., 0.]), array([1., 0.]))\n"
     ]
    }
   ],
   "source": [
    "for label in range(4):\n",
    "    print(game.lemke_howson(initial_dropped_label=0))"
   ]
  },
  {
   "cell_type": "code",
   "execution_count": 108,
   "id": "10b17d2a-424a-4e53-bbd9-b9b404d1e822",
   "metadata": {},
   "outputs": [],
   "source": [
    "NE=game.lemke_howson_enumeration()"
   ]
  },
  {
   "cell_type": "code",
   "execution_count": 109,
   "id": "8acc2dbe-d091-4f88-bb24-e65d2ed39fe7",
   "metadata": {},
   "outputs": [
    {
     "data": {
      "text/plain": [
       "[(array([1., 0.]), array([1., 0.])),\n",
       " (array([0., 1.]), array([0., 1.])),\n",
       " (array([1., 0.]), array([1., 0.])),\n",
       " (array([0., 1.]), array([0., 1.]))]"
      ]
     },
     "execution_count": 109,
     "metadata": {},
     "output_type": "execute_result"
    }
   ],
   "source": [
    "list(NE)"
   ]
  },
  {
   "cell_type": "code",
   "execution_count": 110,
   "id": "0e0e4637-0ab8-48bd-8765-5673790cb464",
   "metadata": {},
   "outputs": [
    {
     "name": "stdout",
     "output_type": "stream",
     "text": [
      "(array([1., 0.]), array([1., 0.]))\n",
      "(array([0., 1.]), array([0., 1.]))\n",
      "(array([0.75, 0.25]), array([0.25, 0.75]))\n"
     ]
    }
   ],
   "source": [
    "for eq in game.support_enumeration():\n",
    "    print(eq)"
   ]
  },
  {
   "cell_type": "code",
   "execution_count": null,
   "id": "4ee5fb37-fd92-4d34-acc7-b3c5ce3ded40",
   "metadata": {},
   "outputs": [],
   "source": [
    "### 5- repeated games ###"
   ]
  },
  {
   "cell_type": "code",
   "execution_count": null,
   "id": "22cfb3d6-cc61-46c9-b4fc-df93a855aafe",
   "metadata": {},
   "outputs": [],
   "source": []
  },
  {
   "cell_type": "code",
   "execution_count": null,
   "id": "3c6f6882-cc88-44c4-a024-38da8139d5b5",
   "metadata": {},
   "outputs": [],
   "source": []
  },
  {
   "cell_type": "code",
   "execution_count": null,
   "id": "80a4763e-64ae-4477-9b41-bcf0621fb17f",
   "metadata": {},
   "outputs": [],
   "source": []
  },
  {
   "cell_type": "code",
   "execution_count": null,
   "id": "7c7a4754-de18-4ec4-9c6a-5a806ab510ae",
   "metadata": {},
   "outputs": [],
   "source": []
  },
  {
   "cell_type": "code",
   "execution_count": null,
   "id": "ed83cdf3-35b1-467a-a0a9-37eb5e20dc7f",
   "metadata": {},
   "outputs": [],
   "source": []
  },
  {
   "cell_type": "code",
   "execution_count": null,
   "id": "1e9b12ad-1540-4fef-bb55-007c3fe9c780",
   "metadata": {},
   "outputs": [],
   "source": []
  },
  {
   "cell_type": "code",
   "execution_count": null,
   "id": "886c7bf3-e164-4302-8263-33abee1e8b0d",
   "metadata": {},
   "outputs": [],
   "source": []
  }
 ],
 "metadata": {
  "kernelspec": {
   "display_name": "Python 3 (ipykernel)",
   "language": "python",
   "name": "python3"
  },
  "language_info": {
   "codemirror_mode": {
    "name": "ipython",
    "version": 3
   },
   "file_extension": ".py",
   "mimetype": "text/x-python",
   "name": "python",
   "nbconvert_exporter": "python",
   "pygments_lexer": "ipython3",
   "version": "3.11.7"
  }
 },
 "nbformat": 4,
 "nbformat_minor": 5
}
