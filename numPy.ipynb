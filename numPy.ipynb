{
 "cells": [
  {
   "cell_type": "code",
   "execution_count": null,
   "id": "8e53691b-63e4-4425-ba70-afa72345890f",
   "metadata": {},
   "outputs": [],
   "source": [
    "# Numerical Pithon"
   ]
  },
  {
   "cell_type": "code",
   "execution_count": 2,
   "id": "fcfff331-16a3-418c-9987-3458f03a5fbb",
   "metadata": {},
   "outputs": [],
   "source": [
    "import numpy as np #import numpy and rename it in np"
   ]
  },
  {
   "cell_type": "code",
   "execution_count": 3,
   "id": "818ceeff-4a13-4c26-8fdd-163bc3100d6e",
   "metadata": {},
   "outputs": [],
   "source": [
    "arr_1d= np.array([1, 2, 3, 4, 5]) #1d array\n",
    "\n",
    "arr_2d = np.array([[1, 2, 3, 4], \n",
    "                   [5, 6, 7, 8],\n",
    "                   [9, 10, 11, 12]]) #2d array -> matrix"
   ]
  },
  {
   "cell_type": "code",
   "execution_count": 4,
   "id": "985be99b-092b-4c69-a133-c434769415ca",
   "metadata": {},
   "outputs": [
    {
     "name": "stdout",
     "output_type": "stream",
     "text": [
      "[1 2 3 4 5]\n"
     ]
    }
   ],
   "source": [
    "print(arr_1d)"
   ]
  },
  {
   "cell_type": "code",
   "execution_count": 5,
   "id": "9cafcf7b-ff60-4321-bd0b-67375ffd18d3",
   "metadata": {},
   "outputs": [
    {
     "name": "stdout",
     "output_type": "stream",
     "text": [
      "[[ 1  2  3  4]\n",
      " [ 5  6  7  8]\n",
      " [ 9 10 11 12]]\n"
     ]
    }
   ],
   "source": [
    "print(arr_2d)"
   ]
  },
  {
   "cell_type": "code",
   "execution_count": 3,
   "id": "bf0d2fd4-14e0-4cad-835e-6ef2c0ca640b",
   "metadata": {},
   "outputs": [],
   "source": [
    "arr_1d= np.array([1, 2, 3, 4, 5]) #1d arra"
   ]
  },
  {
   "cell_type": "code",
   "execution_count": 5,
   "id": "320f73cb-62ca-40ec-ac7d-390cf23ce972",
   "metadata": {},
   "outputs": [
    {
     "name": "stdout",
     "output_type": "stream",
     "text": [
      "[ True  True False False False]\n"
     ]
    }
   ],
   "source": [
    "print(arr_1d < 3) #RETURN BOOLEAN VALUES only 21<3 and 2<3"
   ]
  },
  {
   "cell_type": "code",
   "execution_count": 6,
   "id": "2cd5e17a-b590-4974-ba31-a3e3f2252f0d",
   "metadata": {},
   "outputs": [
    {
     "name": "stdout",
     "output_type": "stream",
     "text": [
      "[1 2]\n"
     ]
    }
   ],
   "source": [
    "print(arr_1d[arr_1d < 3]) #FILTER: RETURN ARRAY ELEMENTS THAT MEET THE CONDITION"
   ]
  },
  {
   "cell_type": "code",
   "execution_count": 4,
   "id": "f1336161-941f-47f1-819f-abbfd4653c21",
   "metadata": {},
   "outputs": [
    {
     "data": {
      "text/plain": [
       "array([[ 1,  2,  3,  4],\n",
       "       [ 5,  6,  7,  8],\n",
       "       [ 9, 10, 11, 12]])"
      ]
     },
     "execution_count": 4,
     "metadata": {},
     "output_type": "execute_result"
    }
   ],
   "source": [
    "arr_2d = np.array([[1, 2, 3, 4], \n",
    "                   [5, 6, 7, 8],\n",
    "                   [9, 10, 11, 12]]) #2d array -> matrix\n",
    "arr_2d"
   ]
  },
  {
   "cell_type": "code",
   "execution_count": 8,
   "id": "6dfdd45f-5462-4484-a3d1-6025eb753aa3",
   "metadata": {},
   "outputs": [
    {
     "name": "stdout",
     "output_type": "stream",
     "text": [
      "[[ True  True False False]\n",
      " [False False False False]\n",
      " [False False False False]]\n"
     ]
    }
   ],
   "source": [
    "print(arr_2d < 3)\n"
   ]
  },
  {
   "cell_type": "code",
   "execution_count": 10,
   "id": "6cbb92b3-9184-4d5c-9640-5cd278cf07e2",
   "metadata": {},
   "outputs": [
    {
     "data": {
      "text/plain": [
       "array([[1, 1, 1, 0],\n",
       "       [0, 0, 0, 0],\n",
       "       [0, 0, 0, 0]])"
      ]
     },
     "execution_count": 10,
     "metadata": {},
     "output_type": "execute_result"
    }
   ],
   "source": [
    "np.where(arr_2d < 4, 1, 0) #if True -> 1 else 0\n",
    "# (nella matrice cerca <4, se vero =1, se falso =0)\n"
   ]
  },
  {
   "cell_type": "code",
   "execution_count": 14,
   "id": "55283cca-2fa9-4c4f-9e38-7af8fea2856d",
   "metadata": {},
   "outputs": [],
   "source": [
    "\n",
    "A = np.random.rand(10, 10) #RANDOM RAND: Create an array of the given shape and populate it with random samples from a uniform distribution over [0, 1].\n",
    "a = A.tolist()"
   ]
  },
  {
   "cell_type": "code",
   "execution_count": 15,
   "id": "fe643064-0c48-42f4-9558-e680e7c12a14",
   "metadata": {},
   "outputs": [
    {
     "name": "stdout",
     "output_type": "stream",
     "text": [
      "CPU times: total: 0 ns\n",
      "Wall time: 1.02 ms\n"
     ]
    },
    {
     "data": {
      "text/plain": [
       "49.35"
      ]
     },
     "execution_count": 15,
     "metadata": {},
     "output_type": "execute_result"
    }
   ],
   "source": [
    "%%time\n",
    "total = 0\n",
    "for row in a:\n",
    "    for n in row:\n",
    "        total += n\n",
    "round(total, 2)"
   ]
  },
  {
   "cell_type": "code",
   "execution_count": 16,
   "id": "295203b4-a776-4a85-beb9-65c3a7d13610",
   "metadata": {},
   "outputs": [
    {
     "name": "stdout",
     "output_type": "stream",
     "text": [
      "CPU times: total: 0 ns\n",
      "Wall time: 12 ms\n"
     ]
    },
    {
     "data": {
      "text/plain": [
       "49.35"
      ]
     },
     "execution_count": 16,
     "metadata": {},
     "output_type": "execute_result"
    }
   ],
   "source": [
    "%%time\n",
    "round(np.sum(A), 2)"
   ]
  },
  {
   "cell_type": "code",
   "execution_count": 18,
   "id": "296382cd-2e9b-4454-8a0f-9b584fbbbd80",
   "metadata": {},
   "outputs": [],
   "source": [
    "a= np.array([1,2,3])\n",
    "b= np.array([4,5,6])"
   ]
  },
  {
   "cell_type": "code",
   "execution_count": 19,
   "id": "bf683caf-5479-4729-a8ae-726d2831afd3",
   "metadata": {},
   "outputs": [
    {
     "data": {
      "text/plain": [
       "array([5, 7, 9])"
      ]
     },
     "execution_count": 19,
     "metadata": {},
     "output_type": "execute_result"
    }
   ],
   "source": [
    "a+b #addition"
   ]
  },
  {
   "cell_type": "code",
   "execution_count": 20,
   "id": "cdf2ae11-b2b6-4876-bc17-6e1b114b5da8",
   "metadata": {},
   "outputs": [
    {
     "data": {
      "text/plain": [
       "array([-3, -3, -3])"
      ]
     },
     "execution_count": 20,
     "metadata": {},
     "output_type": "execute_result"
    }
   ],
   "source": [
    "a-b #subtraction"
   ]
  },
  {
   "cell_type": "code",
   "execution_count": 21,
   "id": "bec3fee4-1f7c-4876-99eb-e8036346d897",
   "metadata": {},
   "outputs": [
    {
     "data": {
      "text/plain": [
       "array([3, 6, 9])"
      ]
     },
     "execution_count": 21,
     "metadata": {},
     "output_type": "execute_result"
    }
   ],
   "source": [
    "a*3 #scalar multiplication"
   ]
  },
  {
   "cell_type": "code",
   "execution_count": 22,
   "id": "c6831c0a-f867-4792-a338-4bbf9b52b362",
   "metadata": {},
   "outputs": [
    {
     "data": {
      "text/plain": [
       "array([ 4, 10, 18])"
      ]
     },
     "execution_count": 22,
     "metadata": {},
     "output_type": "execute_result"
    }
   ],
   "source": [
    "a*b #scalar multiplication\n"
   ]
  },
  {
   "cell_type": "code",
   "execution_count": 23,
   "id": "38c9e2ea-2ba0-4494-83eb-4f89d1a788fe",
   "metadata": {},
   "outputs": [
    {
     "name": "stdout",
     "output_type": "stream",
     "text": [
      "0\n",
      "28\n"
     ]
    }
   ],
   "source": [
    "#Prodotto scalare:\n",
    "\n",
    "c= np.array([1,0]) \n",
    "d= np.array([0,1]) \n",
    "\n",
    "e= np.array([1,2,3])\n",
    "f= np.array([2,4,6]) #combinazione lineare dell'array e (e*2)\n",
    "\n",
    "#Dot product (prodotto scalare):\n",
    "\n",
    "print(np.dot(c,d)) # =0 -> prodotto scalare =0, perpendicolari, angolo = 90°\n",
    "print(np.dot(e,f)) # prodotto scalare positivo & !=0 -> angolo <90°"
   ]
  },
  {
   "cell_type": "code",
   "execution_count": 25,
   "id": "522cd121-39ac-47c8-86e7-68b6dac08e5a",
   "metadata": {},
   "outputs": [
    {
     "data": {
      "text/plain": [
       "array([ 2,  8, 18])"
      ]
     },
     "execution_count": 25,
     "metadata": {},
     "output_type": "execute_result"
    }
   ],
   "source": [
    "e*f"
   ]
  },
  {
   "cell_type": "code",
   "execution_count": 26,
   "id": "9ec63aef-33cd-4b74-91ec-4e8a3ef9c259",
   "metadata": {},
   "outputs": [
    {
     "data": {
      "text/plain": [
       "array([[10, 20],\n",
       "       [30, 40]])"
      ]
     },
     "execution_count": 26,
     "metadata": {},
     "output_type": "execute_result"
    }
   ],
   "source": [
    "M_1 = np.array([[1, 2],  #square matrix 2x2\n",
    "                [3, 4]])\n",
    "\n",
    "#scalar multiplication\n",
    "\n",
    "M_1 * 10"
   ]
  },
  {
   "cell_type": "code",
   "execution_count": null,
   "id": "63ce9b4f-b6a2-46bc-a26a-01b205c6dd4c",
   "metadata": {},
   "outputs": [],
   "source": [
    "#Abbiamo un chiosco allo stadio dove vendiamo:\n",
    "\n",
    "#Hot dogs cost €1.50\n",
    "#Coca Cola cost €0.50\n",
    "#Made a total of €78.50\n",
    "#Sold 87 hot dogs and Coca Cola combined\n",
    "\n",
    "#How many Hot Dogs(x) and Coca Cola(y) have been sold?"
   ]
  },
  {
   "cell_type": "code",
   "execution_count": null,
   "id": "0923c1f4-4c25-4936-8123-5f23ab6db633",
   "metadata": {},
   "outputs": [],
   "source": [
    "# 1.50x + 0.50y = 78.50  (Equation related to cost)\n",
    "\n",
    "# x + y = 87   (Equation related to the number sold)"
   ]
  },
  {
   "cell_type": "code",
   "execution_count": 31,
   "id": "82200275-c838-4ffd-aa6f-235242a0a697",
   "metadata": {},
   "outputs": [
    {
     "name": "stdout",
     "output_type": "stream",
     "text": [
      "[[1.5 0.5]\n",
      " [1.  1. ]]\n",
      "[[78.5]\n",
      " [87. ]]\n"
     ]
    }
   ],
   "source": [
    "a= np.array([[1.50, 0.5], #MATRICE COEFFICIENTI\n",
    "             [1, 1]])\n",
    "\n",
    "b= np.array([[78.50], #MATRICE TERMINI NOTI\n",
    "              [87.0]])\n",
    "print(a) \n",
    "print(b)"
   ]
  },
  {
   "cell_type": "code",
   "execution_count": null,
   "id": "15f8e0f6-0da8-41aa-a719-46c4e36e348a",
   "metadata": {},
   "outputs": [],
   "source": [
    "# AX=b\n",
    "# inv(A)AX=inv(A)b\n",
    "# IX=inv(A)b\n",
    "# X=inv(A)b"
   ]
  },
  {
   "cell_type": "code",
   "execution_count": 35,
   "id": "84ddee09-74e0-41b6-8f0f-0be159d1732b",
   "metadata": {},
   "outputs": [
    {
     "name": "stdout",
     "output_type": "stream",
     "text": [
      "[[ 1.  -0.5]\n",
      " [-1.   1.5]]\n"
     ]
    }
   ],
   "source": [
    "#Calculate inverse of A\n",
    "\n",
    "inv_a= np.linalg.inv(a)\n",
    "print(inv_a)"
   ]
  },
  {
   "cell_type": "code",
   "execution_count": 37,
   "id": "56e093c1-d17f-4f77-9c2d-47943d7be938",
   "metadata": {},
   "outputs": [
    {
     "data": {
      "text/plain": [
       "array([[1.00000000e+00, 0.00000000e+00],\n",
       "       [1.11022302e-16, 1.00000000e+00]])"
      ]
     },
     "execution_count": 37,
     "metadata": {},
     "output_type": "execute_result"
    }
   ],
   "source": [
    "ID= a @ inv_a  #identity matrix @ prodotto matriciale \n",
    "ID"
   ]
  },
  {
   "cell_type": "code",
   "execution_count": 41,
   "id": "40b7e73e-8ec0-4c18-8144-4e6d11cc73bd",
   "metadata": {},
   "outputs": [
    {
     "data": {
      "text/plain": [
       "array([[1., 0.],\n",
       "       [0., 1.]])"
      ]
     },
     "execution_count": 41,
     "metadata": {},
     "output_type": "execute_result"
    }
   ],
   "source": [
    "ID_2= np.eye(2)\n",
    "ID_2"
   ]
  },
  {
   "cell_type": "code",
   "execution_count": 39,
   "id": "b1cf5c51-7fa9-4d57-8e47-7d06d152fbb0",
   "metadata": {},
   "outputs": [
    {
     "data": {
      "text/plain": [
       "True"
      ]
     },
     "execution_count": 39,
     "metadata": {},
     "output_type": "execute_result"
    }
   ],
   "source": [
    "np.allclose(ID, ID_2) #confrontiamo le 2 matrici identità solo per sicurezza."
   ]
  },
  {
   "cell_type": "code",
   "execution_count": 44,
   "id": "4cb85840-1574-4690-ab0e-076d13d2e428",
   "metadata": {},
   "outputs": [
    {
     "data": {
      "text/plain": [
       "array([[35.],\n",
       "       [52.]])"
      ]
     },
     "execution_count": 44,
     "metadata": {},
     "output_type": "execute_result"
    }
   ],
   "source": [
    "X= inv_a @ b #matrice delle Soluzioni (valori incognite) X=inv(A)b\n",
    "X #35 x (quantità hotdog venduti) e 52 y (quantità coca cola venduti)"
   ]
  }
 ],
 "metadata": {
  "kernelspec": {
   "display_name": "Python 3 (ipykernel)",
   "language": "python",
   "name": "python3"
  },
  "language_info": {
   "codemirror_mode": {
    "name": "ipython",
    "version": 3
   },
   "file_extension": ".py",
   "mimetype": "text/x-python",
   "name": "python",
   "nbconvert_exporter": "python",
   "pygments_lexer": "ipython3",
   "version": "3.11.7"
  }
 },
 "nbformat": 4,
 "nbformat_minor": 5
}
